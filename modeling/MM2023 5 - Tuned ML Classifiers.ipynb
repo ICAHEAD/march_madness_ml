{
 "cells": [
  {
   "cell_type": "code",
   "execution_count": 9,
   "id": "200208a7",
   "metadata": {},
   "outputs": [],
   "source": [
    "# Created by Ian Cox | 2/27/2023\n",
    "# AHEAD | March Madness 2023 Bracket Challenge\n",
    "# Tournament Prediction |SKLearn classifiers with gridsearch param tuning\n",
    "# Pick winners based on tournament play history,  regular season stats up to the tournament, and seed\n",
    "\n",
    "# change working dir\n",
    "import os\n",
    "os.chdir('C:\\\\Users\\\\IanCox\\\\OneDrive - AHEAD\\\\Documents\\\\python\\\\march_madness\\\\march-machine-learning-mania-2023')\n",
    "\n",
    "# load the ml ready data\n",
    "import pandas as pd\n",
    "data = pd.read_csv('tourney_ml_input.csv')\n",
    "\n",
    "# import ml lib\n",
    "from sklearn.model_selection import train_test_split\n",
    "from sklearn.linear_model import LogisticRegression\n",
    "from sklearn.tree import DecisionTreeClassifier\n",
    "from sklearn.ensemble import RandomForestClassifier, GradientBoostingClassifier\n",
    "from sklearn.neighbors import KNeighborsClassifier\n",
    "from sklearn.metrics import accuracy_score\n",
    "from sklearn.model_selection import GridSearchCV"
   ]
  },
  {
   "cell_type": "code",
   "execution_count": 7,
   "id": "39cc095c",
   "metadata": {},
   "outputs": [],
   "source": [
    "# Split the data into training and test sets\n",
    "train_data = data[data[\"Season\"] < 2017]\n",
    "test_data = data[data[\"Season\"] >= 2017]"
   ]
  },
  {
   "cell_type": "code",
   "execution_count": 11,
   "id": "890967aa",
   "metadata": {},
   "outputs": [],
   "source": [
    "# Split the features and target variable into X and y keeping the temporal association intact\n",
    "# Select the features and target variable\n",
    "features = [\"RS Point Total\", \"RS Avg Points\", \"OPP RS Point Total\", \"OPP RS Avg Points\", \"SeedDiff\", \"TeamID\", \"OpponentID\"]\n",
    "target = \"outcome\"\n",
    "\n",
    "X_train = train_data[features]\n",
    "y_train = train_data[target]\n",
    "X_test = test_data[features]\n",
    "y_test = test_data[target]"
   ]
  },
  {
   "cell_type": "code",
   "execution_count": 17,
   "id": "e587c09b",
   "metadata": {},
   "outputs": [],
   "source": [
    "# Define models to evaluate with parameter tuning\n",
    "models = {\n",
    "    'Logistic Regression': GridSearchCV(LogisticRegression(),\n",
    "                                        {'C': [0.1, 1.0, 10.0],\n",
    "                                         'penalty': ['l1', 'l2']}),\n",
    "    'Decision Tree': GridSearchCV(DecisionTreeClassifier(),\n",
    "                                  {'max_depth': [3, 5, 7],\n",
    "                                   'min_samples_split': [2, 5, 10]}),\n",
    "    'Random Forest': GridSearchCV(RandomForestClassifier(),\n",
    "                                  {'n_estimators': [50, 100, 150],\n",
    "                                   'max_depth': [3, 5, 7],\n",
    "                                   'min_samples_split': [2, 5, 10]}),\n",
    "    'Gradient Boosting': GridSearchCV(GradientBoostingClassifier(),\n",
    "                                       {'n_estimators': [50, 100, 150],\n",
    "                                        'learning_rate': [0.01, 0.1, 1.0],\n",
    "                                        'max_depth': [3, 5, 7]}),\n",
    "    'K-Nearest Neighbors': GridSearchCV(KNeighborsClassifier(),\n",
    "                                         {'n_neighbors': [3, 5, 7],\n",
    "                                          'weights': ['uniform', 'distance'],\n",
    "                                          'algorithm': ['auto', 'ball_tree', 'kd_tree', 'brute']})\n",
    "}"
   ]
  },
  {
   "cell_type": "code",
   "execution_count": 20,
   "id": "2adc596c",
   "metadata": {},
   "outputs": [],
   "source": [
    "def evaluate_models(X_train, y_train, X_test, y_test):\n",
    "    # Evaluate each model and store the results in a dictionary\n",
    "    results = {}\n",
    "    for name, model in models.items():\n",
    "        # Fit the model\n",
    "        model.fit(X_train, y_train)\n",
    "\n",
    "        # Make predictions on test data\n",
    "        y_pred = model.predict(X_test)\n",
    "\n",
    "        # Calculate accuracy score\n",
    "        accuracy = accuracy_score(y_test, y_pred)\n",
    "\n",
    "        # Store the accuracy score for each model in a dictionary\n",
    "        results[name] = accuracy\n",
    "    \n",
    "    # Convert the results dictionary into a pandas dataframe and sort by accuracy score in descending order\n",
    "    results_df = pd.DataFrame.from_dict(results, orient='index', columns=['Accuracy Score']).sort_values(by='Accuracy Score', ascending=False)\n",
    "    \n",
    "    return results_df"
   ]
  },
  {
   "cell_type": "code",
   "execution_count": 21,
   "id": "aaa99e90",
   "metadata": {},
   "outputs": [
    {
     "name": "stderr",
     "output_type": "stream",
     "text": [
      "C:\\ProgramData\\Anaconda3\\lib\\site-packages\\sklearn\\model_selection\\_validation.py:372: FitFailedWarning: \n",
      "15 fits failed out of a total of 30.\n",
      "The score on these train-test partitions for these parameters will be set to nan.\n",
      "If these failures are not expected, you can try to debug them by setting error_score='raise'.\n",
      "\n",
      "Below are more details about the failures:\n",
      "--------------------------------------------------------------------------------\n",
      "15 fits failed with the following error:\n",
      "Traceback (most recent call last):\n",
      "  File \"C:\\ProgramData\\Anaconda3\\lib\\site-packages\\sklearn\\model_selection\\_validation.py\", line 680, in _fit_and_score\n",
      "    estimator.fit(X_train, y_train, **fit_params)\n",
      "  File \"C:\\ProgramData\\Anaconda3\\lib\\site-packages\\sklearn\\linear_model\\_logistic.py\", line 1461, in fit\n",
      "    solver = _check_solver(self.solver, self.penalty, self.dual)\n",
      "  File \"C:\\ProgramData\\Anaconda3\\lib\\site-packages\\sklearn\\linear_model\\_logistic.py\", line 447, in _check_solver\n",
      "    raise ValueError(\n",
      "ValueError: Solver lbfgs supports only 'l2' or 'none' penalties, got l1 penalty.\n",
      "\n",
      "  warnings.warn(some_fits_failed_message, FitFailedWarning)\n",
      "C:\\ProgramData\\Anaconda3\\lib\\site-packages\\sklearn\\model_selection\\_search.py:969: UserWarning: One or more of the test scores are non-finite: [       nan 0.70065903        nan 0.69735324        nan 0.69735324]\n",
      "  warnings.warn(\n"
     ]
    },
    {
     "data": {
      "text/html": [
       "<div>\n",
       "<style scoped>\n",
       "    .dataframe tbody tr th:only-of-type {\n",
       "        vertical-align: middle;\n",
       "    }\n",
       "\n",
       "    .dataframe tbody tr th {\n",
       "        vertical-align: top;\n",
       "    }\n",
       "\n",
       "    .dataframe thead th {\n",
       "        text-align: right;\n",
       "    }\n",
       "</style>\n",
       "<table border=\"1\" class=\"dataframe\">\n",
       "  <thead>\n",
       "    <tr style=\"text-align: right;\">\n",
       "      <th></th>\n",
       "      <th>Accuracy Score</th>\n",
       "    </tr>\n",
       "  </thead>\n",
       "  <tbody>\n",
       "    <tr>\n",
       "      <th>Random Forest</th>\n",
       "      <td>0.684451</td>\n",
       "    </tr>\n",
       "    <tr>\n",
       "      <th>Logistic Regression</th>\n",
       "      <td>0.679878</td>\n",
       "    </tr>\n",
       "    <tr>\n",
       "      <th>Decision Tree</th>\n",
       "      <td>0.672256</td>\n",
       "    </tr>\n",
       "    <tr>\n",
       "      <th>Gradient Boosting</th>\n",
       "      <td>0.669207</td>\n",
       "    </tr>\n",
       "    <tr>\n",
       "      <th>K-Nearest Neighbors</th>\n",
       "      <td>0.612805</td>\n",
       "    </tr>\n",
       "  </tbody>\n",
       "</table>\n",
       "</div>"
      ],
      "text/plain": [
       "                     Accuracy Score\n",
       "Random Forest              0.684451\n",
       "Logistic Regression        0.679878\n",
       "Decision Tree              0.672256\n",
       "Gradient Boosting          0.669207\n",
       "K-Nearest Neighbors        0.612805"
      ]
     },
     "execution_count": 21,
     "metadata": {},
     "output_type": "execute_result"
    }
   ],
   "source": [
    "evaluate_models(X_train, y_train, X_test, y_test)"
   ]
  }
 ],
 "metadata": {
  "kernelspec": {
   "display_name": "Python (base)",
   "language": "python",
   "name": "base"
  },
  "language_info": {
   "codemirror_mode": {
    "name": "ipython",
    "version": 3
   },
   "file_extension": ".py",
   "mimetype": "text/x-python",
   "name": "python",
   "nbconvert_exporter": "python",
   "pygments_lexer": "ipython3",
   "version": "3.9.13"
  }
 },
 "nbformat": 4,
 "nbformat_minor": 5
}
