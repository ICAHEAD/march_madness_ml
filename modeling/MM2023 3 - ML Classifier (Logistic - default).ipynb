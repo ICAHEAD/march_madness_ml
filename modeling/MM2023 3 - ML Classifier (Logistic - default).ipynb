{
 "cells": [
  {
   "cell_type": "code",
   "execution_count": 12,
   "id": "8fec1c07",
   "metadata": {},
   "outputs": [],
   "source": [
    "# Created by Ian Cox | 2/24/2023\n",
    "# AHEAD | March Madness 2023 Bracket Challenge\n",
    "# Tournament Prediction | Logistic Regression Classifier with default params\n",
    "# Pick winners based on tournament play history,  regular season stats up to the tournament, and seed\n",
    "\n",
    "import pandas as pd\n",
    "import os\n",
    "os.chdir('C:\\\\Users\\\\IanCox\\\\OneDrive - AHEAD\\\\Documents\\\\python\\\\march_madness\\\\march-machine-learning-mania-2023')"
   ]
  },
  {
   "cell_type": "code",
   "execution_count": 13,
   "id": "b3dc2750",
   "metadata": {},
   "outputs": [],
   "source": [
    "# import ml lib\n",
    "from sklearn.model_selection import train_test_split\n",
    "from sklearn.linear_model import LogisticRegression\n",
    "from sklearn.metrics import accuracy_score"
   ]
  },
  {
   "cell_type": "code",
   "execution_count": 14,
   "id": "961edac8",
   "metadata": {},
   "outputs": [
    {
     "data": {
      "text/html": [
       "<div>\n",
       "<style scoped>\n",
       "    .dataframe tbody tr th:only-of-type {\n",
       "        vertical-align: middle;\n",
       "    }\n",
       "\n",
       "    .dataframe tbody tr th {\n",
       "        vertical-align: top;\n",
       "    }\n",
       "\n",
       "    .dataframe thead th {\n",
       "        text-align: right;\n",
       "    }\n",
       "</style>\n",
       "<table border=\"1\" class=\"dataframe\">\n",
       "  <thead>\n",
       "    <tr style=\"text-align: right;\">\n",
       "      <th></th>\n",
       "      <th>Season</th>\n",
       "      <th>DayNum</th>\n",
       "      <th>TeamID</th>\n",
       "      <th>OpponentID</th>\n",
       "      <th>outcome</th>\n",
       "      <th>RS Point Total</th>\n",
       "      <th>RS Avg Points</th>\n",
       "      <th>OPP RS Point Total</th>\n",
       "      <th>OPP RS Avg Points</th>\n",
       "      <th>SeedDiff</th>\n",
       "    </tr>\n",
       "  </thead>\n",
       "  <tbody>\n",
       "    <tr>\n",
       "      <th>0</th>\n",
       "      <td>2003</td>\n",
       "      <td>134</td>\n",
       "      <td>1421</td>\n",
       "      <td>1411</td>\n",
       "      <td>1</td>\n",
       "      <td>2065.0</td>\n",
       "      <td>71.206897</td>\n",
       "      <td>2184.0</td>\n",
       "      <td>72.800000</td>\n",
       "      <td>0</td>\n",
       "    </tr>\n",
       "    <tr>\n",
       "      <th>1</th>\n",
       "      <td>2003</td>\n",
       "      <td>136</td>\n",
       "      <td>1112</td>\n",
       "      <td>1436</td>\n",
       "      <td>1</td>\n",
       "      <td>2386.0</td>\n",
       "      <td>85.214286</td>\n",
       "      <td>1966.0</td>\n",
       "      <td>67.793103</td>\n",
       "      <td>-15</td>\n",
       "    </tr>\n",
       "    <tr>\n",
       "      <th>2</th>\n",
       "      <td>2003</td>\n",
       "      <td>136</td>\n",
       "      <td>1113</td>\n",
       "      <td>1272</td>\n",
       "      <td>1</td>\n",
       "      <td>2203.0</td>\n",
       "      <td>75.965517</td>\n",
       "      <td>2161.0</td>\n",
       "      <td>74.517241</td>\n",
       "      <td>3</td>\n",
       "    </tr>\n",
       "    <tr>\n",
       "      <th>3</th>\n",
       "      <td>2003</td>\n",
       "      <td>136</td>\n",
       "      <td>1141</td>\n",
       "      <td>1166</td>\n",
       "      <td>1</td>\n",
       "      <td>2301.0</td>\n",
       "      <td>79.344828</td>\n",
       "      <td>2615.0</td>\n",
       "      <td>79.242424</td>\n",
       "      <td>5</td>\n",
       "    </tr>\n",
       "    <tr>\n",
       "      <th>4</th>\n",
       "      <td>2003</td>\n",
       "      <td>136</td>\n",
       "      <td>1143</td>\n",
       "      <td>1301</td>\n",
       "      <td>1</td>\n",
       "      <td>2160.0</td>\n",
       "      <td>74.482759</td>\n",
       "      <td>2172.0</td>\n",
       "      <td>72.400000</td>\n",
       "      <td>-1</td>\n",
       "    </tr>\n",
       "    <tr>\n",
       "      <th>...</th>\n",
       "      <td>...</td>\n",
       "      <td>...</td>\n",
       "      <td>...</td>\n",
       "      <td>...</td>\n",
       "      <td>...</td>\n",
       "      <td>...</td>\n",
       "      <td>...</td>\n",
       "      <td>...</td>\n",
       "      <td>...</td>\n",
       "      <td>...</td>\n",
       "    </tr>\n",
       "    <tr>\n",
       "      <th>2465</th>\n",
       "      <td>2022</td>\n",
       "      <td>146</td>\n",
       "      <td>1274</td>\n",
       "      <td>1242</td>\n",
       "      <td>0</td>\n",
       "      <td>2469.0</td>\n",
       "      <td>74.818182</td>\n",
       "      <td>2672.0</td>\n",
       "      <td>78.588235</td>\n",
       "      <td>9</td>\n",
       "    </tr>\n",
       "    <tr>\n",
       "      <th>2466</th>\n",
       "      <td>2022</td>\n",
       "      <td>146</td>\n",
       "      <td>1389</td>\n",
       "      <td>1314</td>\n",
       "      <td>0</td>\n",
       "      <td>1919.0</td>\n",
       "      <td>66.172414</td>\n",
       "      <td>2558.0</td>\n",
       "      <td>77.515152</td>\n",
       "      <td>7</td>\n",
       "    </tr>\n",
       "    <tr>\n",
       "      <th>2467</th>\n",
       "      <td>2022</td>\n",
       "      <td>152</td>\n",
       "      <td>1437</td>\n",
       "      <td>1242</td>\n",
       "      <td>0</td>\n",
       "      <td>2397.0</td>\n",
       "      <td>72.636364</td>\n",
       "      <td>2672.0</td>\n",
       "      <td>78.588235</td>\n",
       "      <td>1</td>\n",
       "    </tr>\n",
       "    <tr>\n",
       "      <th>2468</th>\n",
       "      <td>2022</td>\n",
       "      <td>152</td>\n",
       "      <td>1181</td>\n",
       "      <td>1314</td>\n",
       "      <td>0</td>\n",
       "      <td>2726.0</td>\n",
       "      <td>80.176471</td>\n",
       "      <td>2558.0</td>\n",
       "      <td>77.515152</td>\n",
       "      <td>-6</td>\n",
       "    </tr>\n",
       "    <tr>\n",
       "      <th>2469</th>\n",
       "      <td>2022</td>\n",
       "      <td>154</td>\n",
       "      <td>1314</td>\n",
       "      <td>1242</td>\n",
       "      <td>0</td>\n",
       "      <td>2558.0</td>\n",
       "      <td>77.515152</td>\n",
       "      <td>2672.0</td>\n",
       "      <td>78.588235</td>\n",
       "      <td>7</td>\n",
       "    </tr>\n",
       "  </tbody>\n",
       "</table>\n",
       "<p>2470 rows × 10 columns</p>\n",
       "</div>"
      ],
      "text/plain": [
       "      Season  DayNum  TeamID  OpponentID  outcome  RS Point Total  \\\n",
       "0       2003     134    1421        1411        1          2065.0   \n",
       "1       2003     136    1112        1436        1          2386.0   \n",
       "2       2003     136    1113        1272        1          2203.0   \n",
       "3       2003     136    1141        1166        1          2301.0   \n",
       "4       2003     136    1143        1301        1          2160.0   \n",
       "...      ...     ...     ...         ...      ...             ...   \n",
       "2465    2022     146    1274        1242        0          2469.0   \n",
       "2466    2022     146    1389        1314        0          1919.0   \n",
       "2467    2022     152    1437        1242        0          2397.0   \n",
       "2468    2022     152    1181        1314        0          2726.0   \n",
       "2469    2022     154    1314        1242        0          2558.0   \n",
       "\n",
       "      RS Avg Points  OPP RS Point Total  OPP RS Avg Points  SeedDiff  \n",
       "0         71.206897              2184.0          72.800000         0  \n",
       "1         85.214286              1966.0          67.793103       -15  \n",
       "2         75.965517              2161.0          74.517241         3  \n",
       "3         79.344828              2615.0          79.242424         5  \n",
       "4         74.482759              2172.0          72.400000        -1  \n",
       "...             ...                 ...                ...       ...  \n",
       "2465      74.818182              2672.0          78.588235         9  \n",
       "2466      66.172414              2558.0          77.515152         7  \n",
       "2467      72.636364              2672.0          78.588235         1  \n",
       "2468      80.176471              2558.0          77.515152        -6  \n",
       "2469      77.515152              2672.0          78.588235         7  \n",
       "\n",
       "[2470 rows x 10 columns]"
      ]
     },
     "execution_count": 14,
     "metadata": {},
     "output_type": "execute_result"
    }
   ],
   "source": [
    "# load the ml ready data\n",
    "data = pd.read_csv('tourney_ml_input.csv')\n",
    "data"
   ]
  },
  {
   "cell_type": "code",
   "execution_count": 36,
   "id": "b3a0e963",
   "metadata": {},
   "outputs": [],
   "source": [
    "# Split the data into training and test sets\n",
    "train_data = data[data[\"Season\"] < 2017]\n",
    "test_data = data[data[\"Season\"] >= 2017]"
   ]
  },
  {
   "cell_type": "code",
   "execution_count": 37,
   "id": "6a817144",
   "metadata": {},
   "outputs": [],
   "source": [
    "# Select the features and target variable\n",
    "features = [\"RS Point Total\", \"RS Avg Points\", \"OPP RS Point Total\", \"OPP RS Avg Points\", \"SeedDiff\", \"TeamID\", \"OpponentID\"]\n",
    "target = \"outcome\""
   ]
  },
  {
   "cell_type": "code",
   "execution_count": 38,
   "id": "a1874b2d",
   "metadata": {},
   "outputs": [],
   "source": [
    "# Split the features and target variable into X and y\n",
    "X_train = train_data[features]\n",
    "y_train = train_data[target]\n",
    "X_test = test_data[features]\n",
    "y_test = test_data[target]"
   ]
  },
  {
   "cell_type": "code",
   "execution_count": 39,
   "id": "ef6edb49",
   "metadata": {},
   "outputs": [],
   "source": [
    "# Build a logistic regression model\n",
    "model = LogisticRegression()"
   ]
  },
  {
   "cell_type": "code",
   "execution_count": 40,
   "id": "b59ffee1",
   "metadata": {},
   "outputs": [
    {
     "data": {
      "text/plain": [
       "LogisticRegression()"
      ]
     },
     "execution_count": 40,
     "metadata": {},
     "output_type": "execute_result"
    }
   ],
   "source": [
    "# Train the model on the training data\n",
    "model.fit(X_train, y_train)"
   ]
  },
  {
   "cell_type": "code",
   "execution_count": 41,
   "id": "e6226f06",
   "metadata": {},
   "outputs": [],
   "source": [
    "# Predict the outcomes of the test set\n",
    "y_pred = model.predict(X_test)"
   ]
  },
  {
   "cell_type": "code",
   "execution_count": 42,
   "id": "db91353f",
   "metadata": {},
   "outputs": [
    {
     "name": "stdout",
     "output_type": "stream",
     "text": [
      "Accuracy: 0.6798780487804879\n"
     ]
    }
   ],
   "source": [
    "# Evaluate the accuracy of the model\n",
    "accuracy = accuracy_score(y_test, y_pred)\n",
    "print(f\"Accuracy: {accuracy}\")"
   ]
  }
 ],
 "metadata": {
  "kernelspec": {
   "display_name": "Python 3 (ipykernel)",
   "language": "python",
   "name": "python3"
  },
  "language_info": {
   "codemirror_mode": {
    "name": "ipython",
    "version": 3
   },
   "file_extension": ".py",
   "mimetype": "text/x-python",
   "name": "python",
   "nbconvert_exporter": "python",
   "pygments_lexer": "ipython3",
   "version": "3.9.12"
  }
 },
 "nbformat": 4,
 "nbformat_minor": 5
}
