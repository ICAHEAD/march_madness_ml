{
 "cells": [
  {
   "cell_type": "code",
   "execution_count": 14,
   "id": "593b8680",
   "metadata": {},
   "outputs": [],
   "source": [
    "# Created by Ian Cox | 2/27/2023\n",
    "# AHEAD | March Madness 2023 Bracket Challenge\n",
    "# Tournament Prediction |SKLearn classifiers with no param tuning\n",
    "# Pick winners based on tournament play history,  regular season stats up to the tournament, and seed\n",
    "\n",
    "# change working dir\n",
    "import os\n",
    "os.chdir('C:\\\\Users\\\\IanCox\\\\OneDrive - AHEAD\\\\Documents\\\\python\\\\march_madness\\\\march-machine-learning-mania-2023')\n",
    "\n",
    "# load the ml ready data\n",
    "import pandas as pd\n",
    "data = pd.read_csv('tourney_ml_input.csv')\n",
    "\n",
    "# import ml lib\n",
    "from sklearn.model_selection import train_test_split\n",
    "from sklearn.linear_model import LogisticRegression\n",
    "from sklearn.tree import DecisionTreeClassifier\n",
    "from sklearn.ensemble import RandomForestClassifier, GradientBoostingClassifier\n",
    "from sklearn.neighbors import KNeighborsClassifier\n",
    "from sklearn.metrics import accuracy_score"
   ]
  },
  {
   "cell_type": "code",
   "execution_count": 2,
   "id": "f733e168",
   "metadata": {},
   "outputs": [],
   "source": [
    "# Split the data into training and test sets\n",
    "train_data = data[data[\"Season\"] < 2017]\n",
    "test_data = data[data[\"Season\"] >= 2017]"
   ]
  },
  {
   "cell_type": "code",
   "execution_count": 3,
   "id": "c328b067",
   "metadata": {},
   "outputs": [],
   "source": [
    "# Split the features and target variable into X and y keeping the temporal association intact\n",
    "# Select the features and target variable\n",
    "features = [\"RS Point Total\", \"RS Avg Points\", \"OPP RS Point Total\", \"OPP RS Avg Points\", \"SeedDiff\", \"TeamID\", \"OpponentID\"]\n",
    "target = \"outcome\"\n",
    "\n",
    "X_train = train_data[features]\n",
    "y_train = train_data[target]\n",
    "X_test = test_data[features]\n",
    "y_test = test_data[target]"
   ]
  },
  {
   "cell_type": "code",
   "execution_count": 15,
   "id": "26e09d99",
   "metadata": {},
   "outputs": [],
   "source": [
    "# Define models to evaluate\n",
    "models = {\n",
    "    'Logistic Regression': LogisticRegression(),\n",
    "    'Decision Tree': DecisionTreeClassifier(),\n",
    "    'Random Forest': RandomForestClassifier(),\n",
    "    'Gradient Boosting': GradientBoostingClassifier(),\n",
    "    'K-Nearest Neighbors': KNeighborsClassifier()\n",
    "}"
   ]
  },
  {
   "cell_type": "code",
   "execution_count": 33,
   "id": "933f9326",
   "metadata": {},
   "outputs": [],
   "source": [
    "def evaluate_models(X_train, y_train, X_test, y_test):\n",
    "    # Evaluate each model and store the results in a dictionary\n",
    "    results = {}\n",
    "    for name, model in models.items():\n",
    "        # Fit the model\n",
    "        model.fit(X_train, y_train)\n",
    "\n",
    "        # Make predictions on test data\n",
    "        y_pred = model.predict(X_test)\n",
    "\n",
    "        # Calculate accuracy score\n",
    "        accuracy = accuracy_score(y_test, y_pred)\n",
    "\n",
    "        # Store the accuracy score for each model in a dictionary\n",
    "        results[name] = accuracy\n",
    "    \n",
    "    # Convert the results dictionary into a pandas dataframe\n",
    "    results_df = pd.DataFrame.from_dict(results, orient='index', columns=['Accuracy Score']).sort_values(by='Accuracy Score', ascending=False)\n",
    "    \n",
    "    \n",
    "    return results_df"
   ]
  },
  {
   "cell_type": "code",
   "execution_count": 34,
   "id": "aaab7c59",
   "metadata": {},
   "outputs": [
    {
     "data": {
      "text/html": [
       "<div>\n",
       "<style scoped>\n",
       "    .dataframe tbody tr th:only-of-type {\n",
       "        vertical-align: middle;\n",
       "    }\n",
       "\n",
       "    .dataframe tbody tr th {\n",
       "        vertical-align: top;\n",
       "    }\n",
       "\n",
       "    .dataframe thead th {\n",
       "        text-align: right;\n",
       "    }\n",
       "</style>\n",
       "<table border=\"1\" class=\"dataframe\">\n",
       "  <thead>\n",
       "    <tr style=\"text-align: right;\">\n",
       "      <th></th>\n",
       "      <th>Accuracy Score</th>\n",
       "    </tr>\n",
       "  </thead>\n",
       "  <tbody>\n",
       "    <tr>\n",
       "      <th>Logistic Regression</th>\n",
       "      <td>0.679878</td>\n",
       "    </tr>\n",
       "    <tr>\n",
       "      <th>Gradient Boosting</th>\n",
       "      <td>0.655488</td>\n",
       "    </tr>\n",
       "    <tr>\n",
       "      <th>Random Forest</th>\n",
       "      <td>0.652439</td>\n",
       "    </tr>\n",
       "    <tr>\n",
       "      <th>Decision Tree</th>\n",
       "      <td>0.617378</td>\n",
       "    </tr>\n",
       "    <tr>\n",
       "      <th>K-Nearest Neighbors</th>\n",
       "      <td>0.585366</td>\n",
       "    </tr>\n",
       "  </tbody>\n",
       "</table>\n",
       "</div>"
      ],
      "text/plain": [
       "                     Accuracy Score\n",
       "Logistic Regression        0.679878\n",
       "Gradient Boosting          0.655488\n",
       "Random Forest              0.652439\n",
       "Decision Tree              0.617378\n",
       "K-Nearest Neighbors        0.585366"
      ]
     },
     "execution_count": 34,
     "metadata": {},
     "output_type": "execute_result"
    }
   ],
   "source": [
    "evaluate_models(X_train, y_train, X_test, y_test)"
   ]
  }
 ],
 "metadata": {
  "kernelspec": {
   "display_name": "Python 3 (ipykernel)",
   "language": "python",
   "name": "python3"
  },
  "language_info": {
   "codemirror_mode": {
    "name": "ipython",
    "version": 3
   },
   "file_extension": ".py",
   "mimetype": "text/x-python",
   "name": "python",
   "nbconvert_exporter": "python",
   "pygments_lexer": "ipython3",
   "version": "3.9.12"
  }
 },
 "nbformat": 4,
 "nbformat_minor": 5
}
