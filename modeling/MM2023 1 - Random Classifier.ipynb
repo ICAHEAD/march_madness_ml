{
 "cells": [
  {
   "cell_type": "code",
   "execution_count": null,
   "id": "29ea4789",
   "metadata": {},
   "outputs": [],
   "source": [
    "# Created by Ian Cox | 2/21/2023\n",
    "# AHEAD | March Madness 2023 Bracket Challenge\n",
    "# Random Classifier | Pick winners based on random chance\n",
    "\n",
    "#data: MTeams.csv"
   ]
  },
  {
   "cell_type": "code",
   "execution_count": 1,
   "id": "5d5fcbc7",
   "metadata": {},
   "outputs": [],
   "source": [
    "# import libs\n",
    "import pandas as pd\n",
    "import random\n",
    "import os"
   ]
  },
  {
   "cell_type": "code",
   "execution_count": 2,
   "id": "fb552e67",
   "metadata": {},
   "outputs": [],
   "source": [
    "os.chdir('C:\\\\Users\\\\IanCox\\\\OneDrive - AHEAD\\\\Documents\\\\python\\\\march_madness\\\\mens-march-mania-2022\\\\MDataFiles_Stage1')"
   ]
  },
  {
   "cell_type": "code",
   "execution_count": 3,
   "id": "a413f28a",
   "metadata": {},
   "outputs": [],
   "source": [
    "teams = pd.read_csv('MTeams.csv')"
   ]
  },
  {
   "cell_type": "code",
   "execution_count": 4,
   "id": "67e0cda4",
   "metadata": {},
   "outputs": [
    {
     "data": {
      "text/html": [
       "<div>\n",
       "<style scoped>\n",
       "    .dataframe tbody tr th:only-of-type {\n",
       "        vertical-align: middle;\n",
       "    }\n",
       "\n",
       "    .dataframe tbody tr th {\n",
       "        vertical-align: top;\n",
       "    }\n",
       "\n",
       "    .dataframe thead th {\n",
       "        text-align: right;\n",
       "    }\n",
       "</style>\n",
       "<table border=\"1\" class=\"dataframe\">\n",
       "  <thead>\n",
       "    <tr style=\"text-align: right;\">\n",
       "      <th></th>\n",
       "      <th>TeamID</th>\n",
       "      <th>TeamName</th>\n",
       "      <th>FirstD1Season</th>\n",
       "      <th>LastD1Season</th>\n",
       "    </tr>\n",
       "  </thead>\n",
       "  <tbody>\n",
       "    <tr>\n",
       "      <th>0</th>\n",
       "      <td>1101</td>\n",
       "      <td>Abilene Chr</td>\n",
       "      <td>2014</td>\n",
       "      <td>2022</td>\n",
       "    </tr>\n",
       "    <tr>\n",
       "      <th>1</th>\n",
       "      <td>1102</td>\n",
       "      <td>Air Force</td>\n",
       "      <td>1985</td>\n",
       "      <td>2022</td>\n",
       "    </tr>\n",
       "    <tr>\n",
       "      <th>2</th>\n",
       "      <td>1103</td>\n",
       "      <td>Akron</td>\n",
       "      <td>1985</td>\n",
       "      <td>2022</td>\n",
       "    </tr>\n",
       "    <tr>\n",
       "      <th>3</th>\n",
       "      <td>1104</td>\n",
       "      <td>Alabama</td>\n",
       "      <td>1985</td>\n",
       "      <td>2022</td>\n",
       "    </tr>\n",
       "    <tr>\n",
       "      <th>4</th>\n",
       "      <td>1105</td>\n",
       "      <td>Alabama A&amp;M</td>\n",
       "      <td>2000</td>\n",
       "      <td>2022</td>\n",
       "    </tr>\n",
       "    <tr>\n",
       "      <th>...</th>\n",
       "      <td>...</td>\n",
       "      <td>...</td>\n",
       "      <td>...</td>\n",
       "      <td>...</td>\n",
       "    </tr>\n",
       "    <tr>\n",
       "      <th>367</th>\n",
       "      <td>1468</td>\n",
       "      <td>Bellarmine</td>\n",
       "      <td>2021</td>\n",
       "      <td>2022</td>\n",
       "    </tr>\n",
       "    <tr>\n",
       "      <th>368</th>\n",
       "      <td>1469</td>\n",
       "      <td>Dixie St</td>\n",
       "      <td>2021</td>\n",
       "      <td>2022</td>\n",
       "    </tr>\n",
       "    <tr>\n",
       "      <th>369</th>\n",
       "      <td>1470</td>\n",
       "      <td>Tarleton St</td>\n",
       "      <td>2021</td>\n",
       "      <td>2022</td>\n",
       "    </tr>\n",
       "    <tr>\n",
       "      <th>370</th>\n",
       "      <td>1471</td>\n",
       "      <td>UC San Diego</td>\n",
       "      <td>2021</td>\n",
       "      <td>2022</td>\n",
       "    </tr>\n",
       "    <tr>\n",
       "      <th>371</th>\n",
       "      <td>1472</td>\n",
       "      <td>St Thomas MN</td>\n",
       "      <td>2022</td>\n",
       "      <td>2022</td>\n",
       "    </tr>\n",
       "  </tbody>\n",
       "</table>\n",
       "<p>372 rows × 4 columns</p>\n",
       "</div>"
      ],
      "text/plain": [
       "     TeamID      TeamName  FirstD1Season  LastD1Season\n",
       "0      1101   Abilene Chr           2014          2022\n",
       "1      1102     Air Force           1985          2022\n",
       "2      1103         Akron           1985          2022\n",
       "3      1104       Alabama           1985          2022\n",
       "4      1105   Alabama A&M           2000          2022\n",
       "..      ...           ...            ...           ...\n",
       "367    1468    Bellarmine           2021          2022\n",
       "368    1469      Dixie St           2021          2022\n",
       "369    1470   Tarleton St           2021          2022\n",
       "370    1471  UC San Diego           2021          2022\n",
       "371    1472  St Thomas MN           2022          2022\n",
       "\n",
       "[372 rows x 4 columns]"
      ]
     },
     "execution_count": 4,
     "metadata": {},
     "output_type": "execute_result"
    }
   ],
   "source": [
    "teams"
   ]
  },
  {
   "cell_type": "code",
   "execution_count": 5,
   "id": "c5c316fc",
   "metadata": {},
   "outputs": [],
   "source": [
    "# create a function that will pick 2 random teams and then pick who would win of those teams based on random chance\n",
    "def pick_winner(df):\n",
    "    # Select two random teams\n",
    "    teams = df.sample(n=2)\n",
    "    \n",
    "    # Create a smaller dataframe with just those two teams\n",
    "    smaller_df = df[df['TeamName'].isin(teams['TeamName'])]\n",
    "    \n",
    "    # Randomly select a winner\n",
    "    winner = random.choice(teams['TeamName'].tolist())\n",
    "    \n",
    "    # Print the winner\n",
    "    print(f\"{winner} is the winner!\")\n",
    "    \n",
    "    return smaller_df"
   ]
  },
  {
   "cell_type": "code",
   "execution_count": 10,
   "id": "2cec86ae",
   "metadata": {},
   "outputs": [
    {
     "name": "stdout",
     "output_type": "stream",
     "text": [
      "High Point is the winner!\n"
     ]
    },
    {
     "data": {
      "text/html": [
       "<div>\n",
       "<style scoped>\n",
       "    .dataframe tbody tr th:only-of-type {\n",
       "        vertical-align: middle;\n",
       "    }\n",
       "\n",
       "    .dataframe tbody tr th {\n",
       "        vertical-align: top;\n",
       "    }\n",
       "\n",
       "    .dataframe thead th {\n",
       "        text-align: right;\n",
       "    }\n",
       "</style>\n",
       "<table border=\"1\" class=\"dataframe\">\n",
       "  <thead>\n",
       "    <tr style=\"text-align: right;\">\n",
       "      <th></th>\n",
       "      <th>TeamID</th>\n",
       "      <th>TeamName</th>\n",
       "      <th>FirstD1Season</th>\n",
       "      <th>LastD1Season</th>\n",
       "    </tr>\n",
       "  </thead>\n",
       "  <tbody>\n",
       "    <tr>\n",
       "      <th>118</th>\n",
       "      <td>1219</td>\n",
       "      <td>High Point</td>\n",
       "      <td>2000</td>\n",
       "      <td>2022</td>\n",
       "    </tr>\n",
       "    <tr>\n",
       "      <th>206</th>\n",
       "      <td>1307</td>\n",
       "      <td>New Mexico</td>\n",
       "      <td>1985</td>\n",
       "      <td>2022</td>\n",
       "    </tr>\n",
       "  </tbody>\n",
       "</table>\n",
       "</div>"
      ],
      "text/plain": [
       "     TeamID    TeamName  FirstD1Season  LastD1Season\n",
       "118    1219  High Point           2000          2022\n",
       "206    1307  New Mexico           1985          2022"
      ]
     },
     "execution_count": 10,
     "metadata": {},
     "output_type": "execute_result"
    }
   ],
   "source": [
    "pick_winner(teams)"
   ]
  },
  {
   "cell_type": "markdown",
   "id": "930a7568",
   "metadata": {},
   "source": [
    "## Pros/Cons of Approach\n",
    "\n",
    "### Pros\n",
    "\n",
    "* Random chance provides a benchmark to compare against when evaluating more complex models\n",
    "\n",
    "* If a more complex model cannot perform better than random chance, then we know it isn't useful for predicting that winner of a game\n",
    "\n",
    "* If a more complex model CAN perform better than random chance, we know that it is at least somewhat useful in making predictions\n",
    "\n",
    "* Random chance serves as a <b>BASELINE</b>\n",
    "\n",
    "### Cons\n",
    "\n",
    "* Lack of realism. Random chance is not a reflection of reality\n",
    "\n",
    "* Overfitting. Some complex models will \"overfit\" to the training data, which can create misleading differences between the baseline model and more complex model\n",
    "\n",
    "* Beating the baseline == Good! This is a fallacy! If your model \"beats\" the baseline by a small amount, you still don't have a very accurate model..."
   ]
  }
 ],
 "metadata": {
  "kernelspec": {
   "display_name": "Python 3 (ipykernel)",
   "language": "python",
   "name": "python3"
  },
  "language_info": {
   "codemirror_mode": {
    "name": "ipython",
    "version": 3
   },
   "file_extension": ".py",
   "mimetype": "text/x-python",
   "name": "python",
   "nbconvert_exporter": "python",
   "pygments_lexer": "ipython3",
   "version": "3.9.12"
  }
 },
 "nbformat": 4,
 "nbformat_minor": 5
}
