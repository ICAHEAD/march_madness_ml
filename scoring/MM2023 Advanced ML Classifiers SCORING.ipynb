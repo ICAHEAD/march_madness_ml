{
 "cells": [
  {
   "cell_type": "code",
   "execution_count": 1,
   "id": "5ca818ab",
   "metadata": {},
   "outputs": [],
   "source": [
    "# Created by Ian Cox | 2/27/2023\n",
    "# AHEAD | March Madness 2023 Bracket Challenge\n",
    "# Tournament Prediction | Advanced classifiers\n",
    "# Pick winners based on tournament play history,  regular season stats up to the tournament, and seed\n",
    "\n",
    "# change working dir\n",
    "import os\n",
    "os.chdir('C:\\\\Users\\\\IanCox\\\\OneDrive - AHEAD\\\\Documents\\\\python\\\\march_madness\\\\march-machine-learning-mania-2023_final')\n",
    "\n",
    "# load the ml ready data\n",
    "import pandas as pd\n",
    "data = pd.read_csv('tourney_ml_input.csv')\n",
    "\n",
    "# import ml lib\n",
    "import xgboost as xgb\n",
    "import lightgbm as lgb\n",
    "from sklearn.ensemble import AdaBoostClassifier, RandomForestClassifier\n",
    "from sklearn.linear_model import LogisticRegression\n",
    "from sklearn.metrics import accuracy_score\n",
    "from sklearn.model_selection import GridSearchCV\n",
    "from keras.models import Sequential\n",
    "from keras.layers import Dense"
   ]
  },
  {
   "cell_type": "code",
   "execution_count": 2,
   "id": "7d385158",
   "metadata": {},
   "outputs": [],
   "source": [
    "# Split the data into training and test sets\n",
    "train_data = data[data[\"Season\"] < 2017]\n",
    "test_data = data[data[\"Season\"] >= 2017]"
   ]
  },
  {
   "cell_type": "code",
   "execution_count": 3,
   "id": "e57db635",
   "metadata": {},
   "outputs": [],
   "source": [
    "# Split the features and target variable into X and y keeping the temporal association intact\n",
    "# Select the features and target variable\n",
    "features = [\"RS Point Total\", \"RS Avg Points\", \"OPP RS Point Total\", \"OPP RS Avg Points\", \"SeedDiff\", \"TeamID\", \"OpponentID\"]\n",
    "target = \"outcome\"\n",
    "\n",
    "X_train = train_data[features]\n",
    "y_train = train_data[target]\n",
    "X_test = test_data[features]\n",
    "y_test = test_data[target]"
   ]
  },
  {
   "cell_type": "code",
   "execution_count": 4,
   "id": "ac1841a6",
   "metadata": {},
   "outputs": [],
   "source": [
    "# Define models to evaluate\n",
    "models = {\n",
    "    'Logistic Regression': LogisticRegression(),\n",
    "    'Random Forest': RandomForestClassifier(),\n",
    "    'XGBoost': xgb.XGBClassifier(),\n",
    "    'AdaBoost': AdaBoostClassifier(),\n",
    "    'LightGBM': lgb.LGBMClassifier(),\n",
    "    'Keras': Sequential([Dense(10, input_dim=X_train.shape[1], activation='relu'), Dense(1, activation='sigmoid')])\n",
    "}"
   ]
  },
  {
   "cell_type": "code",
   "execution_count": 5,
   "id": "61965d28",
   "metadata": {},
   "outputs": [],
   "source": [
    "# Define hyperparameters to tune for each model\n",
    "hyperparameters = {\n",
    "    'Logistic Regression': {'C': [0.01, 0.1, 1, 10], 'penalty': ['l1', 'l2']},\n",
    "    'Random Forest': {'n_estimators': [50, 100, 150],'max_depth': [3, 5, 7],'min_samples_split': [2, 5, 10]},\n",
    "    'XGBoost': {'max_depth': [3, 5, 7], 'learning_rate': [0.01, 0.1, 0.3], 'n_estimators': [50, 100, 200]},\n",
    "    'AdaBoost': {'n_estimators': [50, 100, 200], 'learning_rate': [0.01, 0.1, 0.3], 'algorithm': ['SAMME', 'SAMME.R']},\n",
    "    'LightGBM': {'max_depth': [3, 5, 7], 'learning_rate': [0.01, 0.1, 0.3], 'num_leaves': [31, 63, 127]},\n",
    "    'Keras': {'batch_size': 64, 'epochs': 30, 'optimizer': 'adam', 'activation': 'relu'}\n",
    "}"
   ]
  },
  {
   "cell_type": "code",
   "execution_count": 12,
   "id": "feafbdf7",
   "metadata": {},
   "outputs": [],
   "source": [
    "# modifying the function so it also returns the best scoring model\n",
    "import joblib\n",
    "\n",
    "def evaluate_models(X_train, y_train, X_test, y_test):\n",
    "    # Evaluate each model and store the results in a dictionary\n",
    "    results = {}\n",
    "    best_model = None\n",
    "    best_accuracy = 0\n",
    "    for name, model in models.items():\n",
    "        if name == 'Keras':\n",
    "            # Compile and fit the Keras model\n",
    "            model.compile(optimizer='adam', loss='binary_crossentropy', metrics=['accuracy'])\n",
    "            model.fit(X_train, y_train, validation_data=(X_test, y_test), verbose=0, epochs=hyperparameters[name]['epochs'], batch_size=hyperparameters[name]['batch_size'])\n",
    "            # Make predictions on test data\n",
    "            y_pred = (model.predict(X_test) > 0.5).astype(int)\n",
    "        else:\n",
    "            # Perform grid search to tune hyperparameters\n",
    "            clf = GridSearchCV(model, hyperparameters[name], cv=5)\n",
    "            clf.fit(X_train, y_train)\n",
    "            # Make predictions on test data\n",
    "            y_pred = clf.predict(X_test)\n",
    "\n",
    "        # Calculate accuracy score\n",
    "        accuracy = accuracy_score(y_test, y_pred)\n",
    "\n",
    "        # Store the accuracy score for each model in a dictionary\n",
    "        results[name] = accuracy\n",
    "        \n",
    "        # Update the best model if the current model has better accuracy\n",
    "        if accuracy > best_accuracy:\n",
    "            best_model = clf.best_estimator_ if name != 'Keras' else model\n",
    "            best_accuracy = accuracy\n",
    "    \n",
    "    # Convert the results dictionary into a pandas dataframe\n",
    "    results_df = pd.DataFrame.from_dict(results, orient='index', columns=['Accuracy Score']).sort_values(by='Accuracy Score', ascending=False)\n",
    "    \n",
    "    # Export the best model using joblib\n",
    "    joblib.dump(best_model, 'best_model.joblib')\n",
    "    \n",
    "    return best_model, results_df"
   ]
  },
  {
   "cell_type": "code",
   "execution_count": 13,
   "id": "60d953d5",
   "metadata": {},
   "outputs": [
    {
     "name": "stderr",
     "output_type": "stream",
     "text": [
      "C:\\Users\\IanCox\\anaconda3\\lib\\site-packages\\sklearn\\model_selection\\_validation.py:372: FitFailedWarning: \n",
      "20 fits failed out of a total of 40.\n",
      "The score on these train-test partitions for these parameters will be set to nan.\n",
      "If these failures are not expected, you can try to debug them by setting error_score='raise'.\n",
      "\n",
      "Below are more details about the failures:\n",
      "--------------------------------------------------------------------------------\n",
      "20 fits failed with the following error:\n",
      "Traceback (most recent call last):\n",
      "  File \"C:\\Users\\IanCox\\anaconda3\\lib\\site-packages\\sklearn\\model_selection\\_validation.py\", line 680, in _fit_and_score\n",
      "    estimator.fit(X_train, y_train, **fit_params)\n",
      "  File \"C:\\Users\\IanCox\\anaconda3\\lib\\site-packages\\sklearn\\linear_model\\_logistic.py\", line 1461, in fit\n",
      "    solver = _check_solver(self.solver, self.penalty, self.dual)\n",
      "  File \"C:\\Users\\IanCox\\anaconda3\\lib\\site-packages\\sklearn\\linear_model\\_logistic.py\", line 447, in _check_solver\n",
      "    raise ValueError(\n",
      "ValueError: Solver lbfgs supports only 'l2' or 'none' penalties, got l1 penalty.\n",
      "\n",
      "  warnings.warn(some_fits_failed_message, FitFailedWarning)\n",
      "C:\\Users\\IanCox\\anaconda3\\lib\\site-packages\\sklearn\\model_selection\\_search.py:969: UserWarning: One or more of the test scores are non-finite: [       nan 0.69735324        nan 0.70065903        nan 0.69735324\n",
      "        nan 0.69735324]\n",
      "  warnings.warn(\n"
     ]
    },
    {
     "name": "stdout",
     "output_type": "stream",
     "text": [
      "21/21 [==============================] - 0s 528us/step\n"
     ]
    }
   ],
   "source": [
    "best_model, results_df  = evaluate_models(X_train, y_train, X_test, y_test)"
   ]
  },
  {
   "cell_type": "code",
   "execution_count": 14,
   "id": "5a39e6b7",
   "metadata": {},
   "outputs": [
    {
     "data": {
      "text/html": [
       "<div>\n",
       "<style scoped>\n",
       "    .dataframe tbody tr th:only-of-type {\n",
       "        vertical-align: middle;\n",
       "    }\n",
       "\n",
       "    .dataframe tbody tr th {\n",
       "        vertical-align: top;\n",
       "    }\n",
       "\n",
       "    .dataframe thead th {\n",
       "        text-align: right;\n",
       "    }\n",
       "</style>\n",
       "<table border=\"1\" class=\"dataframe\">\n",
       "  <thead>\n",
       "    <tr style=\"text-align: right;\">\n",
       "      <th></th>\n",
       "      <th>Accuracy Score</th>\n",
       "    </tr>\n",
       "  </thead>\n",
       "  <tbody>\n",
       "    <tr>\n",
       "      <th>XGBoost</th>\n",
       "      <td>0.692073</td>\n",
       "    </tr>\n",
       "    <tr>\n",
       "      <th>Logistic Regression</th>\n",
       "      <td>0.679878</td>\n",
       "    </tr>\n",
       "    <tr>\n",
       "      <th>LightGBM</th>\n",
       "      <td>0.679878</td>\n",
       "    </tr>\n",
       "    <tr>\n",
       "      <th>Random Forest</th>\n",
       "      <td>0.676829</td>\n",
       "    </tr>\n",
       "    <tr>\n",
       "      <th>AdaBoost</th>\n",
       "      <td>0.676829</td>\n",
       "    </tr>\n",
       "    <tr>\n",
       "      <th>Keras</th>\n",
       "      <td>0.634146</td>\n",
       "    </tr>\n",
       "  </tbody>\n",
       "</table>\n",
       "</div>"
      ],
      "text/plain": [
       "                     Accuracy Score\n",
       "XGBoost                    0.692073\n",
       "Logistic Regression        0.679878\n",
       "LightGBM                   0.679878\n",
       "Random Forest              0.676829\n",
       "AdaBoost                   0.676829\n",
       "Keras                      0.634146"
      ]
     },
     "execution_count": 14,
     "metadata": {},
     "output_type": "execute_result"
    }
   ],
   "source": [
    "results_df"
   ]
  },
  {
   "cell_type": "code",
   "execution_count": 11,
   "id": "139db8c4",
   "metadata": {},
   "outputs": [],
   "source": [
    "# great! the best model is now exported and we can score new data with this:\n",
    "\n",
    "# Load the best model object\n",
    "best_model = joblib.load('best_model.joblib')\n",
    "\n",
    "# Score new data\n",
    "y_pred_new = best_model.predict(X_new)"
   ]
  },
  {
   "cell_type": "code",
   "execution_count": 95,
   "id": "31029d15",
   "metadata": {},
   "outputs": [
    {
     "data": {
      "text/html": [
       "<div>\n",
       "<style scoped>\n",
       "    .dataframe tbody tr th:only-of-type {\n",
       "        vertical-align: middle;\n",
       "    }\n",
       "\n",
       "    .dataframe tbody tr th {\n",
       "        vertical-align: top;\n",
       "    }\n",
       "\n",
       "    .dataframe thead th {\n",
       "        text-align: right;\n",
       "    }\n",
       "</style>\n",
       "<table border=\"1\" class=\"dataframe\">\n",
       "  <thead>\n",
       "    <tr style=\"text-align: right;\">\n",
       "      <th></th>\n",
       "      <th>TeamID</th>\n",
       "      <th>OpponentID</th>\n",
       "      <th>SeedDiff</th>\n",
       "      <th>Season</th>\n",
       "      <th>RS Point Total</th>\n",
       "      <th>RS Avg Points</th>\n",
       "      <th>OPP RS Point Total</th>\n",
       "      <th>OPP RS Avg Points</th>\n",
       "    </tr>\n",
       "  </thead>\n",
       "  <tbody>\n",
       "    <tr>\n",
       "      <th>0</th>\n",
       "      <td>1345</td>\n",
       "      <td>1242</td>\n",
       "      <td>0</td>\n",
       "      <td>2023</td>\n",
       "      <td>2485.0</td>\n",
       "      <td>73.088235</td>\n",
       "      <td>2548.0</td>\n",
       "      <td>74.941176</td>\n",
       "    </tr>\n",
       "    <tr>\n",
       "      <th>1</th>\n",
       "      <td>1242</td>\n",
       "      <td>1345</td>\n",
       "      <td>0</td>\n",
       "      <td>2023</td>\n",
       "      <td>2548.0</td>\n",
       "      <td>74.941176</td>\n",
       "      <td>2485.0</td>\n",
       "      <td>73.088235</td>\n",
       "    </tr>\n",
       "  </tbody>\n",
       "</table>\n",
       "</div>"
      ],
      "text/plain": [
       "   TeamID  OpponentID  SeedDiff  Season  RS Point Total  RS Avg Points  \\\n",
       "0    1345        1242         0    2023          2485.0      73.088235   \n",
       "1    1242        1345         0    2023          2548.0      74.941176   \n",
       "\n",
       "   OPP RS Point Total  OPP RS Avg Points  \n",
       "0              2548.0          74.941176  \n",
       "1              2485.0          73.088235  "
      ]
     },
     "execution_count": 95,
     "metadata": {},
     "output_type": "execute_result"
    }
   ],
   "source": [
    "# lets read in a file and generate preds!\n",
    "score_this = pd.read_csv('6TH_ROUND_SCORING_FORM.csv')\n",
    "score_this"
   ]
  },
  {
   "cell_type": "code",
   "execution_count": 96,
   "id": "4e1b23c5",
   "metadata": {},
   "outputs": [],
   "source": [
    "score2 = score_this.drop(['Season'], axis=1)"
   ]
  },
  {
   "cell_type": "code",
   "execution_count": 97,
   "id": "df0ff6a6",
   "metadata": {},
   "outputs": [],
   "source": [
    "# define the desired column order\n",
    "columns = [\"RS Point Total\", \"RS Avg Points\", \"OPP RS Point Total\", \"OPP RS Avg Points\", \"SeedDiff\", \"TeamID\", \"OpponentID\"]\n",
    "\n",
    "# reorder the columns using reindex\n",
    "score3 = score2.reindex(columns=columns)"
   ]
  },
  {
   "cell_type": "code",
   "execution_count": 98,
   "id": "965c5a3d",
   "metadata": {},
   "outputs": [],
   "source": [
    "# Load the best model object\n",
    "best_model = joblib.load('best_model.joblib')"
   ]
  },
  {
   "cell_type": "code",
   "execution_count": 99,
   "id": "6142694f",
   "metadata": {},
   "outputs": [],
   "source": [
    "# Generate predictions on the input data using the loaded model\n",
    "predictions = best_model.predict(score3)"
   ]
  },
  {
   "cell_type": "code",
   "execution_count": 100,
   "id": "a596e8c5",
   "metadata": {},
   "outputs": [
    {
     "data": {
      "text/html": [
       "<div>\n",
       "<style scoped>\n",
       "    .dataframe tbody tr th:only-of-type {\n",
       "        vertical-align: middle;\n",
       "    }\n",
       "\n",
       "    .dataframe tbody tr th {\n",
       "        vertical-align: top;\n",
       "    }\n",
       "\n",
       "    .dataframe thead th {\n",
       "        text-align: right;\n",
       "    }\n",
       "</style>\n",
       "<table border=\"1\" class=\"dataframe\">\n",
       "  <thead>\n",
       "    <tr style=\"text-align: right;\">\n",
       "      <th></th>\n",
       "      <th>RS Point Total</th>\n",
       "      <th>RS Avg Points</th>\n",
       "      <th>OPP RS Point Total</th>\n",
       "      <th>OPP RS Avg Points</th>\n",
       "      <th>SeedDiff</th>\n",
       "      <th>TeamID</th>\n",
       "      <th>OpponentID</th>\n",
       "      <th>prediction</th>\n",
       "    </tr>\n",
       "  </thead>\n",
       "  <tbody>\n",
       "    <tr>\n",
       "      <th>0</th>\n",
       "      <td>2485.0</td>\n",
       "      <td>73.088235</td>\n",
       "      <td>2548.0</td>\n",
       "      <td>74.941176</td>\n",
       "      <td>0</td>\n",
       "      <td>1345</td>\n",
       "      <td>1242</td>\n",
       "      <td>1</td>\n",
       "    </tr>\n",
       "    <tr>\n",
       "      <th>1</th>\n",
       "      <td>2548.0</td>\n",
       "      <td>74.941176</td>\n",
       "      <td>2485.0</td>\n",
       "      <td>73.088235</td>\n",
       "      <td>0</td>\n",
       "      <td>1242</td>\n",
       "      <td>1345</td>\n",
       "      <td>0</td>\n",
       "    </tr>\n",
       "  </tbody>\n",
       "</table>\n",
       "</div>"
      ],
      "text/plain": [
       "   RS Point Total  RS Avg Points  OPP RS Point Total  OPP RS Avg Points  \\\n",
       "0          2485.0      73.088235              2548.0          74.941176   \n",
       "1          2548.0      74.941176              2485.0          73.088235   \n",
       "\n",
       "   SeedDiff  TeamID  OpponentID  prediction  \n",
       "0         0    1345        1242           1  \n",
       "1         0    1242        1345           0  "
      ]
     },
     "execution_count": 100,
     "metadata": {},
     "output_type": "execute_result"
    }
   ],
   "source": [
    "# Add the predictions as a new column to the input data\n",
    "score4 = score3.assign(prediction=predictions)\n",
    "score4"
   ]
  },
  {
   "cell_type": "code",
   "execution_count": 101,
   "id": "a92f00b1",
   "metadata": {},
   "outputs": [],
   "source": [
    "# Load the saved model\n",
    "best_model = joblib.load('best_model.joblib')\n",
    "\n",
    "# Make predictions and get probabilities\n",
    "y_pred = best_model.predict(score3)\n",
    "y_prob = best_model.predict_proba(score3)[:, 1]\n",
    "\n",
    "score4 = score3\n",
    "\n",
    "# Add the prediction and probability columns to the original data\n",
    "score4['prediction'] = y_pred\n",
    "score4['probability'] = y_prob"
   ]
  },
  {
   "cell_type": "code",
   "execution_count": 102,
   "id": "934484f9",
   "metadata": {},
   "outputs": [
    {
     "data": {
      "text/html": [
       "<div>\n",
       "<style scoped>\n",
       "    .dataframe tbody tr th:only-of-type {\n",
       "        vertical-align: middle;\n",
       "    }\n",
       "\n",
       "    .dataframe tbody tr th {\n",
       "        vertical-align: top;\n",
       "    }\n",
       "\n",
       "    .dataframe thead th {\n",
       "        text-align: right;\n",
       "    }\n",
       "</style>\n",
       "<table border=\"1\" class=\"dataframe\">\n",
       "  <thead>\n",
       "    <tr style=\"text-align: right;\">\n",
       "      <th></th>\n",
       "      <th>RS Point Total</th>\n",
       "      <th>RS Avg Points</th>\n",
       "      <th>OPP RS Point Total</th>\n",
       "      <th>OPP RS Avg Points</th>\n",
       "      <th>SeedDiff</th>\n",
       "      <th>TeamID</th>\n",
       "      <th>OpponentID</th>\n",
       "      <th>prediction</th>\n",
       "      <th>probability</th>\n",
       "    </tr>\n",
       "  </thead>\n",
       "  <tbody>\n",
       "    <tr>\n",
       "      <th>0</th>\n",
       "      <td>2485.0</td>\n",
       "      <td>73.088235</td>\n",
       "      <td>2548.0</td>\n",
       "      <td>74.941176</td>\n",
       "      <td>0</td>\n",
       "      <td>1345</td>\n",
       "      <td>1242</td>\n",
       "      <td>1</td>\n",
       "      <td>0.533633</td>\n",
       "    </tr>\n",
       "    <tr>\n",
       "      <th>1</th>\n",
       "      <td>2548.0</td>\n",
       "      <td>74.941176</td>\n",
       "      <td>2485.0</td>\n",
       "      <td>73.088235</td>\n",
       "      <td>0</td>\n",
       "      <td>1242</td>\n",
       "      <td>1345</td>\n",
       "      <td>0</td>\n",
       "      <td>0.471054</td>\n",
       "    </tr>\n",
       "  </tbody>\n",
       "</table>\n",
       "</div>"
      ],
      "text/plain": [
       "   RS Point Total  RS Avg Points  OPP RS Point Total  OPP RS Avg Points  \\\n",
       "0          2485.0      73.088235              2548.0          74.941176   \n",
       "1          2548.0      74.941176              2485.0          73.088235   \n",
       "\n",
       "   SeedDiff  TeamID  OpponentID  prediction  probability  \n",
       "0         0    1345        1242           1     0.533633  \n",
       "1         0    1242        1345           0     0.471054  "
      ]
     },
     "execution_count": 102,
     "metadata": {},
     "output_type": "execute_result"
    }
   ],
   "source": [
    "score4"
   ]
  },
  {
   "cell_type": "code",
   "execution_count": 104,
   "id": "9c1c7588",
   "metadata": {},
   "outputs": [
    {
     "data": {
      "text/html": [
       "<div>\n",
       "<style scoped>\n",
       "    .dataframe tbody tr th:only-of-type {\n",
       "        vertical-align: middle;\n",
       "    }\n",
       "\n",
       "    .dataframe tbody tr th {\n",
       "        vertical-align: top;\n",
       "    }\n",
       "\n",
       "    .dataframe thead th {\n",
       "        text-align: right;\n",
       "    }\n",
       "</style>\n",
       "<table border=\"1\" class=\"dataframe\">\n",
       "  <thead>\n",
       "    <tr style=\"text-align: right;\">\n",
       "      <th></th>\n",
       "      <th>RS Point Total</th>\n",
       "      <th>RS Avg Points</th>\n",
       "      <th>OPP RS Point Total</th>\n",
       "      <th>OPP RS Avg Points</th>\n",
       "      <th>SeedDiff</th>\n",
       "      <th>TeamID</th>\n",
       "      <th>OpponentID</th>\n",
       "      <th>prediction</th>\n",
       "      <th>probability</th>\n",
       "      <th>TeamName</th>\n",
       "    </tr>\n",
       "  </thead>\n",
       "  <tbody>\n",
       "    <tr>\n",
       "      <th>0</th>\n",
       "      <td>2485.0</td>\n",
       "      <td>73.088235</td>\n",
       "      <td>2548.0</td>\n",
       "      <td>74.941176</td>\n",
       "      <td>0</td>\n",
       "      <td>1345</td>\n",
       "      <td>1242</td>\n",
       "      <td>1</td>\n",
       "      <td>0.533633</td>\n",
       "      <td>Purdue</td>\n",
       "    </tr>\n",
       "    <tr>\n",
       "      <th>1</th>\n",
       "      <td>2548.0</td>\n",
       "      <td>74.941176</td>\n",
       "      <td>2485.0</td>\n",
       "      <td>73.088235</td>\n",
       "      <td>0</td>\n",
       "      <td>1242</td>\n",
       "      <td>1345</td>\n",
       "      <td>0</td>\n",
       "      <td>0.471054</td>\n",
       "      <td>Kansas</td>\n",
       "    </tr>\n",
       "  </tbody>\n",
       "</table>\n",
       "</div>"
      ],
      "text/plain": [
       "   RS Point Total  RS Avg Points  OPP RS Point Total  OPP RS Avg Points  \\\n",
       "0          2485.0      73.088235              2548.0          74.941176   \n",
       "1          2548.0      74.941176              2485.0          73.088235   \n",
       "\n",
       "   SeedDiff  TeamID  OpponentID  prediction  probability TeamName  \n",
       "0         0    1345        1242           1     0.533633   Purdue  \n",
       "1         0    1242        1345           0     0.471054   Kansas  "
      ]
     },
     "execution_count": 104,
     "metadata": {},
     "output_type": "execute_result"
    }
   ],
   "source": [
    "# join the team names to the file so its easier to read\n",
    "# read in teams data\n",
    "teams = pd.read_csv('MTeams.csv')\n",
    "\n",
    "# merge in the team names\n",
    "name_merge_winners = pd.merge(score4, teams[['TeamID', 'TeamName']], on='TeamID')\n",
    "name_merge_winners"
   ]
  },
  {
   "cell_type": "code",
   "execution_count": 105,
   "id": "d27d1a3b",
   "metadata": {},
   "outputs": [],
   "source": [
    "# drop values of teams that didn't win\n",
    "winners_round1 = name_merge_winners.loc[score4[\"prediction\"] == 1]\n",
    "\n",
    "\n",
    "winners_round1.to_csv('SIXTH_round_preds.csv',index=False)"
   ]
  },
  {
   "cell_type": "code",
   "execution_count": 106,
   "id": "876be1e6",
   "metadata": {},
   "outputs": [
    {
     "name": "stdout",
     "output_type": "stream",
     "text": [
      "   RS Point Total  RS Avg Points  OPP RS Point Total  OPP RS Avg Points  \\\n",
      "0          2485.0      73.088235              2548.0          74.941176   \n",
      "\n",
      "   SeedDiff  TeamID  OpponentID  prediction  probability TeamName  \n",
      "0         0    1345        1242           1     0.533633   Purdue  \n"
     ]
    }
   ],
   "source": [
    "print(winners_round1.head(50))"
   ]
  },
  {
   "cell_type": "markdown",
   "id": "b39f6874",
   "metadata": {},
   "source": [
    "## This notebook takes the seed data and regular season data and submits that layout for scoring. The scoring file returns the prediction for winners as well as the probabilities output for each outcome per matchup."
   ]
  }
 ],
 "metadata": {
  "kernelspec": {
   "display_name": "Python (base)",
   "language": "python",
   "name": "base"
  },
  "language_info": {
   "codemirror_mode": {
    "name": "ipython",
    "version": 3
   },
   "file_extension": ".py",
   "mimetype": "text/x-python",
   "name": "python",
   "nbconvert_exporter": "python",
   "pygments_lexer": "ipython3",
   "version": "3.9.13"
  }
 },
 "nbformat": 4,
 "nbformat_minor": 5
}
